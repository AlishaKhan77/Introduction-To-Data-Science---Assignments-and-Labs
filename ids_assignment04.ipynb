{
 "cells": [
  {
   "cell_type": "markdown",
   "id": "14ae187d-be80-475c-80a1-4b6173913f3e",
   "metadata": {},
   "source": [
    "# 1. Initialize Temperature and Humidity Data"
   ]
  },
  {
   "cell_type": "code",
   "execution_count": 2,
   "id": "5138df2a-0db5-4ff0-bbad-cca48c814a69",
   "metadata": {},
   "outputs": [],
   "source": [
    "import numpy as np\n",
    "np.random.seed(0)\n",
    "temperature_data = np.random.uniform(-10, 40, (500, 365))\n",
    "humidity_data = np.random.uniform(0, 100, (500, 365))\n"
   ]
  },
  {
   "cell_type": "markdown",
   "id": "1d069780-77a7-4ff2-8b95-b5e9fd6cb476",
   "metadata": {},
   "source": [
    "# 2. Check for Missing Data"
   ]
  },
  {
   "cell_type": "code",
   "execution_count": 3,
   "id": "61def04d-45ef-47e8-b457-ae4d94816486",
   "metadata": {},
   "outputs": [
    {
     "name": "stdout",
     "output_type": "stream",
     "text": [
      "Total missing entries in temperature_data: 9088\n",
      "Total missing entries in humidity_data: 9088\n"
     ]
    }
   ],
   "source": [
    "mask = np.random.choice([True, False], size=temperature_data.shape, p=[0.05, 0.95])\n",
    "temperature_data[mask] = np.nan\n",
    "humidity_data[mask] = np.nan\n",
    "\n",
    "missing_temperature = np.isnan(temperature_data).sum()\n",
    "missing_humidity = np.isnan(humidity_data).sum()\n",
    "\n",
    "print(\"Total missing entries in temperature_data:\", missing_temperature)\n",
    "print(\"Total missing entries in humidity_data:\", missing_humidity)\n"
   ]
  },
  {
   "cell_type": "markdown",
   "id": "ba87174f-6ff3-4912-be76-8026cea1224c",
   "metadata": {},
   "source": [
    "# 3. Convert Temperature and Calculate Discomfort Index"
   ]
  },
  {
   "cell_type": "code",
   "execution_count": 4,
   "id": "44586c08-f430-41d6-9774-da771eac6caa",
   "metadata": {},
   "outputs": [],
   "source": [
    "temperature_data_fahrenheit = temperature_data * 9/5 + 32\n",
    "discomfort_index = temperature_data + 0.55 * (1 - humidity_data / 100) * (temperature_data - 58)\n",
    "discomfort_index = np.clip(discomfort_index, None, 80)\n"
   ]
  },
  {
   "cell_type": "markdown",
   "id": "5ae76c04-133a-4284-b45f-5fffb1991490",
   "metadata": {},
   "source": [
    "# 4. Analyze January Temperatures"
   ]
  },
  {
   "cell_type": "code",
   "execution_count": 5,
   "id": "df437be2-c997-4238-bbb1-7a32e2215c9c",
   "metadata": {},
   "outputs": [
    {
     "name": "stdout",
     "output_type": "stream",
     "text": [
      "Average January temperature across all locations: 15.057905709791807\n"
     ]
    }
   ],
   "source": [
    "january_data = temperature_data[:, :31]\n",
    "january_avg_temp = np.nanmean(january_data)\n",
    "print(\"Average January temperature across all locations:\", january_avg_temp)\n"
   ]
  },
  {
   "cell_type": "markdown",
   "id": "08686bfe-e8c6-44b7-b488-0616801f88a3",
   "metadata": {},
   "source": [
    "# 5. Identify Extreme Temperatures"
   ]
  },
  {
   "cell_type": "code",
   "execution_count": 6,
   "id": "8275c30f-6b06-4643-8ab0-e32de9fb439c",
   "metadata": {},
   "outputs": [
    {
     "name": "stdout",
     "output_type": "stream",
     "text": [
      "Number of null values per location due to extreme temperatures: [52 61 51 61 54 53 57 55 56 51 41 52 44 42 52 53 43 50 53 45 56 49 43 52\n",
      " 54 53 66 60 45 49 55 53 57 48 43 61 41 45 56 51 60 62 51 43 57 58 49 57\n",
      " 62 47 64 56 57 46 58 68 47 73 60 47 52 61 65 52 43 63 35 56 46 49 43 63\n",
      " 58 53 41 50 49 61 43 59 66 58 44 55 63 57 50 45 46 55 43 50 49 46 45 51\n",
      " 53 57 55 54 57 46 53 59 52 63 60 50 57 56 55 55 50 49 59 48 49 53 57 55\n",
      " 60 48 53 44 56 56 54 48 52 49 47 45 52 51 49 48 52 62 54 64 53 58 38 52\n",
      " 48 56 56 33 46 54 45 62 45 51 49 51 55 48 43 55 50 60 64 48 58 52 48 62\n",
      " 41 53 36 63 53 58 46 53 49 50 45 41 68 51 49 55 60 50 56 64 52 56 51 52\n",
      " 58 58 40 47 55 52 55 64 59 61 42 56 46 54 60 52 66 46 52 57 53 42 64 52\n",
      " 58 58 55 49 52 64 50 54 61 53 50 49 45 39 45 53 46 61 50 62 58 60 49 51\n",
      " 51 47 50 59 59 69 49 52 48 44 48 63 61 41 56 51 47 64 60 58 56 52 43 60\n",
      " 54 49 47 52 59 60 53 53 50 53 51 53 63 64 50 63 48 48 65 54 58 55 71 51\n",
      " 44 59 51 44 63 46 60 43 51 59 50 48 57 53 49 47 52 54 47 64 61 49 55 58\n",
      " 48 58 52 53 53 49 61 49 64 50 64 52 57 51 52 58 54 51 52 49 55 38 52 55\n",
      " 54 51 56 48 59 50 62 54 57 61 53 51 49 40 61 56 47 50 47 60 33 52 57 63\n",
      " 51 40 46 59 45 41 48 43 55 57 62 63 52 64 50 64 48 42 40 57 57 65 49 58\n",
      " 42 74 57 55 38 54 57 52 52 58 56 52 53 50 73 47 56 48 53 63 56 53 47 50\n",
      " 70 49 51 61 53 51 41 48 53 53 62 60 47 49 48 49 46 42 45 59 49 55 45 50\n",
      " 38 53 52 45 55 50 48 56 58 51 44 63 59 53 53 52 42 55 63 50 52 52 42 53\n",
      " 57 54 60 48 67 55 41 48 66 57 39 53 51 55 52 50 53 50 53 62 44 50 59 52\n",
      " 64 39 59 54 55 50 51 59 50 56 47 55 57 55 44 46 52 64 58 56]\n"
     ]
    }
   ],
   "source": [
    "temperature_data[temperature_data > 35] = np.nan\n",
    "null_per_location = np.isnan(temperature_data).sum(axis=1)\n",
    "print(\"Number of null values per location due to extreme temperatures:\", null_per_location)\n"
   ]
  },
  {
   "cell_type": "markdown",
   "id": "5e8bfae9-5e6c-4e07-9f59-a0488efb69b7",
   "metadata": {},
   "source": [
    "# 6. Calculate Quarterly Temperature Averages"
   ]
  },
  {
   "cell_type": "code",
   "execution_count": 7,
   "id": "94419089-ca34-4473-be45-a05c18f813eb",
   "metadata": {
    "scrolled": true
   },
   "outputs": [
    {
     "name": "stdout",
     "output_type": "stream",
     "text": [
      "Quarterly average temperatures for each location:\n",
      " [[11.31817555 14.44633514 11.66169602 10.35317935]\n",
      " [10.6039256  12.7002658  12.33682497 12.41836172]\n",
      " [11.8103234  13.29927529 12.44403298 11.3246437 ]\n",
      " ...\n",
      " [ 9.74635001 11.64427784 14.36179697 12.99081444]\n",
      " [11.81290054 12.73674978 14.89180279 13.18451207]\n",
      " [12.08930199 14.2550813  14.32264695 14.84522726]]\n"
     ]
    }
   ],
   "source": [
    "quarterly_data = temperature_data[:, :364].reshape(500, 4, 91)\n",
    "quarterly_avg = np.nanmean(quarterly_data, axis=2)\n",
    "print(\"Quarterly average temperatures for each location:\\n\", quarterly_avg)\n"
   ]
  },
  {
   "cell_type": "markdown",
   "id": "5a68bb01-4247-46f4-b46d-63fe818edf24",
   "metadata": {},
   "source": [
    "# 7. Classify Humidity Levels"
   ]
  },
  {
   "cell_type": "code",
   "execution_count": 8,
   "id": "db64eac5-76c9-4af8-8e71-76d14f6d4df2",
   "metadata": {},
   "outputs": [
    {
     "name": "stdout",
     "output_type": "stream",
     "text": [
      "Number of 'Dry' days per location: [ 96 112 105 105  93 123 102 104  97 102  93  99  86 126 106  93 100 107\n",
      " 112 127 115  97 116 106  98 110  89  98 106 111 119  99  99  79 116 104\n",
      " 106  98 115 106  95 109 103  98 103  92 111 106  98 107  89 107  88  95\n",
      " 105 112 106 113  92 133  91 102  98 116  93 118 115 119 105  96  97 117\n",
      " 110 110 102 108  99 121 112 110  92 107  93  97 104 105 101  96 122 110\n",
      " 118 109 112 111 111 104 105  98 101 117  96 100 113 100 113 106 121 111\n",
      " 101  94 100 109  94  92 111  91 113  94 111 116 107 122 110 109  94 111\n",
      "  94 109 100 118 102 101 106 115  90 121 104 101 107 105 106  97 108 117\n",
      " 105 110  94  97  93 107  99 105 113  98  92 124 100 105 101 105 101 103\n",
      "  89 102  98 102 102 110  98 109 100 106 112 102 123 103  99 106  93 109\n",
      " 108 106 113 109 111 108 103  98 101 104  93 110 102  92 109 113 115 104\n",
      " 106 104 110 111 103 112  97 116  96 114 114 100 100 108  99 113 109 101\n",
      "  94 106 106 113  99 102 116 103 116 104 113  88 110 110 107  97 101 110\n",
      " 106  95 112 104 109 116 106  98 114 101 102 121 105 113 113  84 103  92\n",
      " 102  99 100  97  98  97  97 102 105  98 111 120 125 124 113 102 114  87\n",
      " 106 113 108 125  92 118 100 102 105 103 115 104 115  96 109 104  99  96\n",
      " 109 120  99  96 110 104 104 104 111 102 101 103 113 100 104 109 103  99\n",
      " 113 104 107 108 104 103 100 105 101 109 108 110 118 115 105 123 113 117\n",
      " 104 112 103 117  91 106 119  99 124 111  86 113 105 103  97 108 109  97\n",
      " 121 109 121 108  90 113  98 112 108 109 108  89 110 109 101  98 110  97\n",
      " 108 101  93  99 130 108 119 113  94 111 106 105 113  98 107 103 105  99\n",
      " 111 110  96 105 101  99 101 113  93 106  93 108  99  91 108  88 102 104\n",
      "  97 108  98 103  99 120 102 107 103 115 106 116 116 106 109 102  96 110\n",
      " 115  98  94  94 113 107 117 108 105  97 107 103 107 104 112  98 117 105\n",
      " 117 119  94 101 105 112 100 107  93  89 117 101 118  91 111 123 101  83\n",
      "  93 114 108  96 109 121 108  96 100 112 104 100 105 103 112  90 109 104\n",
      "  91  95 104 117 115 104 100  92  99 117 111 101 115 102  98 100 103 113\n",
      " 100 105  96 106 105 103  97 111 111 103 119 108  94 106]\n",
      "Number of 'Humid' days per location: [110 110 116 103 114  94 109 106 103 114 108 113 112  85 109 110 111 107\n",
      " 101  87  96 117  94  91  97  97 115  98  96  98 122 108 107 120  99  94\n",
      " 101  98 113 108 100 108 104 118 114  95  87 105  99 110 123 109 117 105\n",
      "  92  95 102 115 122  89 104  91 100  94 117  91 108 109 118 112 115  95\n",
      " 106 103 108 103 117  92  92  81  98 105 110 114 113 103 107 105 100 103\n",
      " 102 109 116 105  99 103 106  96 111  98 112  98  93  97 104 105 106 109\n",
      " 106  99 110 103  96 106 108 111 102 123 107  97  98  96 109 101 106 100\n",
      " 105 102 123  95 102 112  99  99 109  91 103  92  96 106 102 107  93 106\n",
      "  97  96 101 102 105 104 115 102 109 114 103  98 101 103 109 115 100  97\n",
      " 102  93 109  86  98  96 104 100 110 123  89 104  97  87  86 100 107  99\n",
      "  95  82  94  95 100  91 100 107 105  94 103 104  91 107 107 101 100 104\n",
      " 101 106 101  92 114 104 100  93 107  97  91  93 109  92 111 100  98 112\n",
      "  97  96 107 100 111 107  95 113 113 102  91 102 100  93 104 111  94 109\n",
      "  99 115  98  93 101 102 106 102 113 103  95 108 110 103 103 111  96 102\n",
      " 121 114 105 109 101 105 114 100 109 107 100  97  86 104 105 107  97 110\n",
      "  99  93 102  91  98  91 110 113 107 107  96 101  88  98 104 117 103 117\n",
      "  94  98 111 112  98 103 111  94  94 103  96 109 103 109 119 100 104 104\n",
      " 100  99 109  91  97 109  88 105 109 119 112 105 101  99 114  87  94 102\n",
      " 103  99  99 105 100 104 105 109  82 101 108  87 108 105 110 102  97 101\n",
      " 101 106  98 105 106 107 112 103 114 115 107 113  93 116 109  92  93 107\n",
      "  98  99 106 110 107 100 102  99 116 105  96 107  93 107  95 102 119 101\n",
      " 103 102 104 107 112 112  96  84  87 114 116 102 121  99  95 106 102 104\n",
      " 104 115 102 107 103  95 112 110  93  91 102  98  91 102  97 104 105 115\n",
      "  99 111 122 111  95 105  85 104 106 117 103 108 115 110 111 101  96  93\n",
      " 103 103 105 101  91 116  96 100 109 115  92  88 103 118 108  95  99 122\n",
      "  91  92 103 104  99  96 110 102 114  95  98 108 108  96 101 105 109 109\n",
      " 101 109 107  95 106 104  93 101 117  97 104 103 110  97 118 105 114  98\n",
      " 113 102  97  95  99  84 110 105 104 107  98  94  99 113]\n"
     ]
    }
   ],
   "source": [
    "dry_days = (humidity_data < 30).sum(axis=1)\n",
    "humid_days = (humidity_data > 70).sum(axis=1)\n",
    "\n",
    "print(\"Number of 'Dry' days per location:\", dry_days)\n",
    "print(\"Number of 'Humid' days per location:\", humid_days)\n"
   ]
  },
  {
   "cell_type": "markdown",
   "id": "b234c758-9a93-41d2-804a-961baea54915",
   "metadata": {},
   "source": [
    "# 8. Apply Daily Pressure Trend to Temperature Data"
   ]
  },
  {
   "cell_type": "code",
   "execution_count": 9,
   "id": "f8e451dc-f05a-49b3-a766-369570a2142d",
   "metadata": {},
   "outputs": [
    {
     "name": "stdout",
     "output_type": "stream",
     "text": [
      "Sample of adjusted temperature data: [[17.4406752  25.80393081 20.20767799 17.33341725 11.25989097]\n",
      " [12.93019809 26.25361918  9.98561401         nan 24.67028794]\n",
      " [15.05315864  8.83468071  8.2740524   3.06098747 14.90061142]\n",
      " [27.94922774 -9.16276395         nan 20.86032086 17.74352882]\n",
      " [        nan         nan 12.98079501 31.03246426 28.64864573]]\n"
     ]
    }
   ],
   "source": [
    "pressure_trend = 1 + 0.1 * np.sin(np.linspace(0, 2 * np.pi, 365))\n",
    "temperature_adjusted = temperature_data * pressure_trend\n",
    "print(\"Sample of adjusted temperature data:\", temperature_adjusted[:5, :5])\n"
   ]
  },
  {
   "cell_type": "code",
   "execution_count": null,
   "id": "119e319a-3bcd-4f82-ad8c-f3e4e40a57a2",
   "metadata": {},
   "outputs": [],
   "source": []
  }
 ],
 "metadata": {
  "kernelspec": {
   "display_name": "Python 3 (ipykernel)",
   "language": "python",
   "name": "python3"
  },
  "language_info": {
   "codemirror_mode": {
    "name": "ipython",
    "version": 3
   },
   "file_extension": ".py",
   "mimetype": "text/x-python",
   "name": "python",
   "nbconvert_exporter": "python",
   "pygments_lexer": "ipython3",
   "version": "3.12.6"
  }
 },
 "nbformat": 4,
 "nbformat_minor": 5
}
