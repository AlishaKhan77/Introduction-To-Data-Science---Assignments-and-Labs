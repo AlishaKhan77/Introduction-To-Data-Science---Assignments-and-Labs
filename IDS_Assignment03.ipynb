{
 "cells": [
  {
   "cell_type": "markdown",
   "id": "ead3baee-7f48-4127-956c-bd707714640a",
   "metadata": {},
   "source": [
    "# Task 1: E-commerce Data Processing\n"
   ]
  },
  {
   "cell_type": "markdown",
   "id": "24b0bf3a-3c9b-4da0-bc1b-76634e12dd48",
   "metadata": {},
   "source": [
    "# Part A: Data Validation"
   ]
  },
  {
   "cell_type": "code",
   "execution_count": 1,
   "id": "ff2995ba-4ae9-4c09-a1ee-92ea629869b5",
   "metadata": {},
   "outputs": [
    {
     "name": "stdout",
     "output_type": "stream",
     "text": [
      "Valid Orders: [{'customer': 'Alice', 'total': 250.5}, {'customer': 'Charlie', 'total': 450}, {'customer': 'Daisy', 'total': 100.0}]\n"
     ]
    }
   ],
   "source": [
    "orders = [\n",
    "    {\"customer\": \"Alice\", \"total\": 250.5},\n",
    "    {\"customer\": \"Bob\", \"total\": \"invalid_data\"},\n",
    "    {\"customer\": \"Charlie\", \"total\": 450},\n",
    "    {\"customer\": \"Daisy\", \"total\": 100.0},\n",
    "    {\"customer\": \"Eve\", \"total\": -30},  # Invalid total\n",
    "]\n",
    "\n",
    "def validate_orders(orders):\n",
    "    # Lambda function to filter out invalid orders\n",
    "    is_valid_order = lambda order: isinstance(order[\"total\"], (int, float)) and order[\"total\"] > 0\n",
    "    \n",
    "    try:\n",
    "        # Filter orders with proper error handling for conversion issues\n",
    "        valid_orders = list(filter(is_valid_order, orders))\n",
    "    except (ValueError, TypeError) as e:\n",
    "        print(f\"Error: {e}\")\n",
    "    \n",
    "    return valid_orders\n",
    "\n",
    "valid_orders = validate_orders(orders)\n",
    "print(\"Valid Orders:\", valid_orders)"
   ]
  },
  {
   "cell_type": "markdown",
   "id": "89ad259f-e1df-4c30-8f85-490d48690e18",
   "metadata": {},
   "source": [
    "# Part B: Discount Application"
   ]
  },
  {
   "cell_type": "code",
   "execution_count": 2,
   "id": "0ba0fcf0-5d4b-4ea1-b13a-e4a053555904",
   "metadata": {},
   "outputs": [
    {
     "name": "stdout",
     "output_type": "stream",
     "text": [
      "Discounted Orders: [{'customer': 'Alice', 'total': 250.5}, {'customer': 'Charlie', 'total': 405.0}, {'customer': 'Daisy', 'total': 100.0}]\n"
     ]
    }
   ],
   "source": [
    "def apply_discount(orders):\n",
    "    # Lambda function to apply 10% discount to orders above $300\n",
    "    apply_discount_lambda = lambda order: {**order, \"total\": order[\"total\"] * 0.9} if order[\"total\"] > 300 else order\n",
    "    \n",
    "    # Using map to apply the discount\n",
    "    discounted_orders = list(map(apply_discount_lambda, orders))\n",
    "    \n",
    "    return discounted_orders\n",
    "\n",
    "discounted_orders = apply_discount(valid_orders)\n",
    "print(\"Discounted Orders:\", discounted_orders)"
   ]
  },
  {
   "cell_type": "markdown",
   "id": "4232ee6e-3ac5-4b81-b437-9ebe68f68e3e",
   "metadata": {},
   "source": [
    "# Part C: Total Sales Calculation"
   ]
  },
  {
   "cell_type": "code",
   "execution_count": 3,
   "id": "cfcb68a3-08d8-4407-99ac-ad57b5badd5f",
   "metadata": {},
   "outputs": [
    {
     "name": "stdout",
     "output_type": "stream",
     "text": [
      "Total Sales: 755.5\n"
     ]
    }
   ],
   "source": [
    "from functools import reduce\n",
    "\n",
    "def calculate_total_sales(orders):\n",
    "    # Lambda function to calculate total sales\n",
    "    total_sales = reduce(lambda acc, order: acc + order[\"total\"], orders, 0)\n",
    "    \n",
    "    return total_sales\n",
    "\n",
    "total_sales = calculate_total_sales(discounted_orders)\n",
    "print(\"Total Sales:\", total_sales)"
   ]
  },
  {
   "cell_type": "markdown",
   "id": "27f6c51b-b148-4a70-9820-9145864c3742",
   "metadata": {},
   "source": [
    "# Task 2: Iterator and Generator\n"
   ]
  },
  {
   "cell_type": "markdown",
   "id": "1b33f48c-bf75-4850-bbc3-6e6b282c676a",
   "metadata": {},
   "source": [
    "# Part A: Custom Iterator"
   ]
  },
  {
   "cell_type": "code",
   "execution_count": 6,
   "id": "80e40958-e931-4953-b5a4-f81741e1be09",
   "metadata": {},
   "outputs": [
    {
     "name": "stdout",
     "output_type": "stream",
     "text": [
      "1\n",
      "4\n",
      "9\n",
      "16\n",
      "25\n",
      "36\n",
      "49\n",
      "64\n",
      "81\n",
      "100\n",
      "121\n",
      "144\n",
      "169\n",
      "196\n",
      "225\n",
      "256\n",
      "289\n",
      "324\n",
      "361\n",
      "400\n"
     ]
    }
   ],
   "source": [
    "class SquareIterator:\n",
    "    def __init__(self, n):\n",
    "        self.n = n\n",
    "        self.current = 0\n",
    "    \n",
    "    def __iter__(self):\n",
    "        return self\n",
    "    \n",
    "    def __next__(self):\n",
    "        if self.current < self.n:\n",
    "            self.current += 1\n",
    "            return self.current ** 2\n",
    "        else:\n",
    "            raise StopIteration\n",
    "\n",
    "square_iter = SquareIterator(20)\n",
    "for square in square_iter:\n",
    "    print(square)"
   ]
  },
  {
   "cell_type": "markdown",
   "id": "c0462bae-2fd8-44f5-a3c0-19fef0f522dc",
   "metadata": {},
   "source": [
    "# Part B: Fibonacci Generator"
   ]
  },
  {
   "cell_type": "code",
   "execution_count": 7,
   "id": "03927111-ed42-4036-9b83-42bfdc172dc4",
   "metadata": {},
   "outputs": [
    {
     "name": "stdout",
     "output_type": "stream",
     "text": [
      "0\n",
      "1\n",
      "1\n",
      "2\n",
      "3\n",
      "5\n",
      "8\n"
     ]
    }
   ],
   "source": [
    "def fibonacci_generator(n):\n",
    "    a, b = 0, 1\n",
    "    while a <= n:\n",
    "        yield a\n",
    "        a, b = b, a + b\n",
    "\n",
    "for num in fibonacci_generator(10):\n",
    "    print(num)"
   ]
  },
  {
   "cell_type": "markdown",
   "id": "bf7e7b7c-7e77-4032-837a-0ee19b7700e5",
   "metadata": {},
   "source": [
    "# Task 3: Exception Handling and Function Decorator"
   ]
  },
  {
   "cell_type": "markdown",
   "id": "76c0f3ed-c7b2-4855-b3ee-a1cd984183ac",
   "metadata": {},
   "source": [
    "# Part A: Chained Exceptions"
   ]
  },
  {
   "cell_type": "code",
   "execution_count": 16,
   "id": "5dbc6aa6-fe9e-4f8d-946f-aca4098200b2",
   "metadata": {},
   "outputs": [
    {
     "name": "stdout",
     "output_type": "stream",
     "text": [
      "ZeroDivisorError: Cannot divide by zero\n"
     ]
    }
   ],
   "source": [
    "class ZeroDivisorError(Exception):\n",
    "    \"\"\"Custom exception raised when divisor is zero.\"\"\"\n",
    "    pass\n",
    "\n",
    "class NonNumericError(Exception):\n",
    "    \"\"\"Custom exception raised when a non-numeric input is encountered.\"\"\"\n",
    "    pass\n",
    "\n",
    "def divide_numbers(numbers, divisor):\n",
    "    try:\n",
    "        # Raise custom exception if divisor is zero\n",
    "        if divisor == 0:\n",
    "            raise ZeroDivisorError(\"Cannot divide by zero\")\n",
    "        \n",
    "        # Ensure all elements in 'numbers' are numeric\n",
    "        for num in numbers:\n",
    "            if not isinstance(num, (int, float)):\n",
    "                raise NonNumericError(f\"Non-numeric value encountered: {num}\")\n",
    "        \n",
    "        # Perform division for valid numbers\n",
    "        return [num / divisor for num in numbers]\n",
    "    \n",
    "    except ZeroDivisorError as zde:\n",
    "        # Raise ZeroDivisorError if divisor is zero\n",
    "        raise zde\n",
    "    \n",
    "    except NonNumericError as nne:\n",
    "        # Raise NonNumericError if a non-numeric value is found in the list\n",
    "        raise nne\n",
    "\n",
    "    except Exception as e:\n",
    "        # Handle any other exceptions (e.g., NameError if divisor is not defined)\n",
    "        raise Exception(\"An error occurred during division\") from e\n",
    "\n",
    "# Testing Task 3A\n",
    "try:\n",
    "    # 'a' is not defined, it will raise a NameError\n",
    "    print(divide_numbers([10, 20, \"thirty\"], 0))\n",
    "except NameError:\n",
    "    print(\"Error: Divisor 'a' is not defined. Please provide a valid divisor.\")\n",
    "except ZeroDivisorError as zde:\n",
    "    print(f\"ZeroDivisorError: {zde}\")\n",
    "except NonNumericError as nne:\n",
    "    print(f\"NonNumericError: {nne}\")\n",
    "except Exception as e:\n",
    "    print(f\"Exception: {e}\")\n"
   ]
  },
  {
   "cell_type": "markdown",
   "id": "fa2ba87c-5f8e-4e1a-924a-4e37ad154db9",
   "metadata": {},
   "source": [
    "# Part B: Exception Logging Decorator"
   ]
  },
  {
   "cell_type": "code",
   "execution_count": 18,
   "id": "746dc0c8-5302-40d7-b217-0b5b8ee1d4de",
   "metadata": {},
   "outputs": [
    {
     "name": "stderr",
     "output_type": "stream",
     "text": [
      "ERROR:root:Exception in risky_divide: ZeroDivisionError - division by zero\n"
     ]
    }
   ],
   "source": [
    "import functools\n",
    "import logging\n",
    "\n",
    "# Configure logging to capture error-level messages\n",
    "logging.basicConfig(level=logging.ERROR)\n",
    "\n",
    "# Decorator to log exceptions during function execution\n",
    "def log_exceptions(func):\n",
    "    @functools.wraps(func)\n",
    "    def wrapper(*args, **kwargs):\n",
    "        try:\n",
    "            return func(*args, **kwargs)\n",
    "        except Exception as e:\n",
    "            # Log the exception with details about function name and error type\n",
    "            logging.error(f\"Exception in {func.__name__}: {e.__class__.__name__} - {e}\")\n",
    "            raise  # Re-raise the exception after logging\n",
    "    return wrapper\n",
    "\n",
    "@log_exceptions\n",
    "def risky_divide(x, y):\n",
    "    \"\"\"Divides x by y, but raises a ZeroDivisionError if y is 0.\"\"\"\n",
    "    return x / y\n",
    "\n",
    "# Test risky_divide with error handling\n",
    "try:\n",
    "    # Attempt division by zero, which should trigger logging\n",
    "    risky_divide(10, 0)\n",
    "except ZeroDivisionError:\n",
    "    pass  # Handled by the decorator, so no further action needed\n"
   ]
  },
  {
   "cell_type": "code",
   "execution_count": null,
   "id": "278a3a9a-b50b-4092-9518-ae0ac448d197",
   "metadata": {},
   "outputs": [],
   "source": []
  }
 ],
 "metadata": {
  "kernelspec": {
   "display_name": "Python 3 (ipykernel)",
   "language": "python",
   "name": "python3"
  },
  "language_info": {
   "codemirror_mode": {
    "name": "ipython",
    "version": 3
   },
   "file_extension": ".py",
   "mimetype": "text/x-python",
   "name": "python",
   "nbconvert_exporter": "python",
   "pygments_lexer": "ipython3",
   "version": "3.12.6"
  }
 },
 "nbformat": 4,
 "nbformat_minor": 5
}
